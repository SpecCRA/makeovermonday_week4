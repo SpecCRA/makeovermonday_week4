{
 "nbformat": 4,
 "nbformat_minor": 2,
 "metadata": {
  "language_info": {
   "name": "python",
   "codemirror_mode": {
    "name": "ipython",
    "version": 3
   },
   "version": "3.7.4-final"
  },
  "orig_nbformat": 2,
  "file_extension": ".py",
  "mimetype": "text/x-python",
  "name": "python",
  "npconvert_exporter": "python",
  "pygments_lexer": "ipython3",
  "version": 3,
  "kernelspec": {
   "name": "python3",
   "display_name": "Python 3"
  }
 },
 "cells": [
  {
   "cell_type": "code",
   "execution_count": 34,
   "metadata": {},
   "outputs": [],
   "source": [
    "import pandas as pd\n",
    "import numpy as np"
   ]
  },
  {
   "cell_type": "code",
   "execution_count": 60,
   "metadata": {},
   "outputs": [],
   "source": [
    "file1 = 'Bridges Dataset_2020.01.14.xls'\n",
    "file2 = 'Global Indicators Dataset_2020.01.21.xls'\n",
    "\n",
    "df_bridges = pd.read_excel(file1)\n",
    "\n",
    "df_global = pd.read_excel(file2)"
   ]
  },
  {
   "cell_type": "code",
   "execution_count": 36,
   "metadata": {},
   "outputs": [
    {
     "data": {
      "text/html": "<div>\n<style scoped>\n    .dataframe tbody tr th:only-of-type {\n        vertical-align: middle;\n    }\n\n    .dataframe tbody tr th {\n        vertical-align: top;\n    }\n\n    .dataframe thead th {\n        text-align: right;\n    }\n</style>\n<table border=\"1\" class=\"dataframe\">\n  <thead>\n    <tr style=\"text-align: right;\">\n      <th></th>\n      <th>Country</th>\n      <th>Level 1 Government</th>\n      <th>Level 2 Government</th>\n      <th>Bridge Name</th>\n      <th>Project Code</th>\n      <th>B2P Fiscal Year</th>\n      <th>Stage</th>\n      <th>Individuals Directly Served</th>\n      <th>GPS (Latitude)</th>\n      <th>GPS (Longitude)</th>\n      <th>Bridge Type</th>\n      <th>Span (m)</th>\n      <th>Project Type</th>\n    </tr>\n  </thead>\n  <tbody>\n    <tr>\n      <td>0</td>\n      <td>Uganda</td>\n      <td>Eastern Region</td>\n      <td>Mbale</td>\n      <td>Kama</td>\n      <td>UG101</td>\n      <td>2018</td>\n      <td>Complete</td>\n      <td>5280.0</td>\n      <td>1.116330</td>\n      <td>34.252460</td>\n      <td>Suspended Bridge</td>\n      <td>90.0</td>\n      <td>B2P Built</td>\n    </tr>\n    <tr>\n      <td>1</td>\n      <td>Swaziland</td>\n      <td>NaN</td>\n      <td>NaN</td>\n      <td>Mbluzi-Myendle</td>\n      <td>GO108</td>\n      <td>2017</td>\n      <td>Complete</td>\n      <td>4000.0</td>\n      <td>-26.294120</td>\n      <td>31.271240</td>\n      <td>Suspended Bridge</td>\n      <td>73.0</td>\n      <td>B2P Supported</td>\n    </tr>\n    <tr>\n      <td>2</td>\n      <td>Panama</td>\n      <td>Ngäbe-Buglé</td>\n      <td>NaN</td>\n      <td>Llano Bonito</td>\n      <td>PA122</td>\n      <td>2017</td>\n      <td>Complete</td>\n      <td>1500.0</td>\n      <td>8.446314</td>\n      <td>-81.365675</td>\n      <td>Suspended Bridge</td>\n      <td>79.0</td>\n      <td>B2P Supported</td>\n    </tr>\n    <tr>\n      <td>3</td>\n      <td>Nicaragua</td>\n      <td>Jinotega</td>\n      <td>Santa María de Pantasma</td>\n      <td>Puente San Vicente N°1</td>\n      <td>1008677</td>\n      <td>2018</td>\n      <td>Complete</td>\n      <td>4000.0</td>\n      <td>13.435012</td>\n      <td>-85.783800</td>\n      <td>Suspension Bridge</td>\n      <td>67.8</td>\n      <td>B2P Built</td>\n    </tr>\n    <tr>\n      <td>4</td>\n      <td>Nicaragua</td>\n      <td>Matagalpa</td>\n      <td>Río Blanco</td>\n      <td>La Guitarrilla</td>\n      <td>1008691</td>\n      <td>2018</td>\n      <td>Complete</td>\n      <td>4000.0</td>\n      <td>13.122785</td>\n      <td>-85.236833</td>\n      <td>Suspension Bridge</td>\n      <td>77.5</td>\n      <td>B2P Built</td>\n    </tr>\n  </tbody>\n</table>\n</div>",
      "text/plain": "     Country Level 1 Government       Level 2 Government  \\\n0     Uganda     Eastern Region                    Mbale   \n1  Swaziland                NaN                      NaN   \n2     Panama        Ngäbe-Buglé                      NaN   \n3  Nicaragua           Jinotega  Santa María de Pantasma   \n4  Nicaragua          Matagalpa               Río Blanco   \n\n              Bridge Name Project Code  B2P Fiscal Year     Stage  \\\n0                    Kama        UG101             2018  Complete   \n1          Mbluzi-Myendle        GO108             2017  Complete   \n2            Llano Bonito        PA122             2017  Complete   \n3  Puente San Vicente N°1      1008677             2018  Complete   \n4          La Guitarrilla      1008691             2018  Complete   \n\n   Individuals Directly Served  GPS (Latitude)  GPS (Longitude)  \\\n0                       5280.0        1.116330        34.252460   \n1                       4000.0      -26.294120        31.271240   \n2                       1500.0        8.446314       -81.365675   \n3                       4000.0       13.435012       -85.783800   \n4                       4000.0       13.122785       -85.236833   \n\n         Bridge Type  Span (m)   Project Type  \n0   Suspended Bridge      90.0      B2P Built  \n1   Suspended Bridge      73.0  B2P Supported  \n2   Suspended Bridge      79.0  B2P Supported  \n3  Suspension Bridge      67.8      B2P Built  \n4  Suspension Bridge      77.5      B2P Built  "
     },
     "execution_count": 36,
     "metadata": {},
     "output_type": "execute_result"
    }
   ],
   "source": [
    "df_bridges.head()"
   ]
  },
  {
   "cell_type": "code",
   "execution_count": 37,
   "metadata": {},
   "outputs": [
    {
     "data": {
      "text/html": "<div>\n<style scoped>\n    .dataframe tbody tr th:only-of-type {\n        vertical-align: middle;\n    }\n\n    .dataframe tbody tr th {\n        vertical-align: top;\n    }\n\n    .dataframe thead th {\n        text-align: right;\n    }\n</style>\n<table border=\"1\" class=\"dataframe\">\n  <thead>\n    <tr style=\"text-align: right;\">\n      <th></th>\n      <th>Country</th>\n      <th>Rural Access (Year Varies)\\nIndex</th>\n      <th>Rural % of Total Population (2018)</th>\n      <th>Total Rural Population (2018)</th>\n      <th>Rural Population without Access (2018 Population, Varying RAI Year)</th>\n      <th>Human Development Index (2019)</th>\n    </tr>\n  </thead>\n  <tbody>\n    <tr>\n      <td>0</td>\n      <td>Afghanistan</td>\n      <td>22%</td>\n      <td>0.74505</td>\n      <td>27695286</td>\n      <td>2.16023e+07</td>\n      <td>0.49596</td>\n    </tr>\n    <tr>\n      <td>1</td>\n      <td>Albania</td>\n      <td>31%</td>\n      <td>0.39681</td>\n      <td>1137407</td>\n      <td>784811</td>\n      <td>0.791406</td>\n    </tr>\n    <tr>\n      <td>2</td>\n      <td>Algeria</td>\n      <td>59%</td>\n      <td>0.27371</td>\n      <td>11558343</td>\n      <td>4.73892e+06</td>\n      <td>0.758978</td>\n    </tr>\n    <tr>\n      <td>3</td>\n      <td>American Samoa</td>\n      <td>not available</td>\n      <td>0.12847</td>\n      <td>7126</td>\n      <td>not available</td>\n      <td>not available</td>\n    </tr>\n    <tr>\n      <td>4</td>\n      <td>Andorra</td>\n      <td>not available</td>\n      <td>0.11938</td>\n      <td>9193</td>\n      <td>not available</td>\n      <td>0.856781</td>\n    </tr>\n  </tbody>\n</table>\n</div>",
      "text/plain": "          Country Rural Access (Year Varies)\\nIndex  \\\n0     Afghanistan                               22%   \n1         Albania                               31%   \n2         Algeria                               59%   \n3  American Samoa                     not available   \n4         Andorra                     not available   \n\n  Rural % of Total Population (2018) Total Rural Population (2018)  \\\n0                            0.74505                      27695286   \n1                            0.39681                       1137407   \n2                            0.27371                      11558343   \n3                            0.12847                          7126   \n4                            0.11938                          9193   \n\n  Rural Population without Access (2018 Population, Varying RAI Year)  \\\n0                                        2.16023e+07                    \n1                                             784811                    \n2                                        4.73892e+06                    \n3                                      not available                    \n4                                      not available                    \n\n  Human Development Index (2019)  \n0                        0.49596  \n1                       0.791406  \n2                       0.758978  \n3                  not available  \n4                       0.856781  "
     },
     "execution_count": 37,
     "metadata": {},
     "output_type": "execute_result"
    }
   ],
   "source": [
    "df_global.head()"
   ]
  },
  {
   "cell_type": "code",
   "execution_count": 67,
   "metadata": {},
   "outputs": [
    {
     "data": {
      "text/html": "<div>\n<style scoped>\n    .dataframe tbody tr th:only-of-type {\n        vertical-align: middle;\n    }\n\n    .dataframe tbody tr th {\n        vertical-align: top;\n    }\n\n    .dataframe thead th {\n        text-align: right;\n    }\n</style>\n<table border=\"1\" class=\"dataframe\">\n  <thead>\n    <tr style=\"text-align: right;\">\n      <th></th>\n      <th>Country</th>\n      <th>Rural Access (Year Varies)\\nIndex</th>\n      <th>Rural % of Total Population (2018)</th>\n      <th>Total Rural Population (2018)</th>\n      <th>Rural Population without Access (2018 Population, Varying RAI Year)</th>\n      <th>Human Development Index (2019)</th>\n    </tr>\n  </thead>\n  <tbody>\n    <tr>\n      <td>0</td>\n      <td>Afghanistan</td>\n      <td>22%</td>\n      <td>0.74505</td>\n      <td>27695286.0</td>\n      <td>21602323.08</td>\n      <td>0.495960</td>\n    </tr>\n    <tr>\n      <td>1</td>\n      <td>Albania</td>\n      <td>31%</td>\n      <td>0.39681</td>\n      <td>1137407.0</td>\n      <td>784810.83</td>\n      <td>0.791406</td>\n    </tr>\n    <tr>\n      <td>2</td>\n      <td>Algeria</td>\n      <td>59%</td>\n      <td>0.27371</td>\n      <td>11558343.0</td>\n      <td>4738920.63</td>\n      <td>0.758978</td>\n    </tr>\n    <tr>\n      <td>3</td>\n      <td>American Samoa</td>\n      <td>NaN</td>\n      <td>0.12847</td>\n      <td>7126.0</td>\n      <td>NaN</td>\n      <td>NaN</td>\n    </tr>\n    <tr>\n      <td>4</td>\n      <td>Andorra</td>\n      <td>NaN</td>\n      <td>0.11938</td>\n      <td>9193.0</td>\n      <td>NaN</td>\n      <td>0.856781</td>\n    </tr>\n  </tbody>\n</table>\n</div>",
      "text/plain": "          Country Rural Access (Year Varies)\\nIndex  \\\n0     Afghanistan                               22%   \n1         Albania                               31%   \n2         Algeria                               59%   \n3  American Samoa                               NaN   \n4         Andorra                               NaN   \n\n   Rural % of Total Population (2018)  Total Rural Population (2018)  \\\n0                             0.74505                     27695286.0   \n1                             0.39681                      1137407.0   \n2                             0.27371                     11558343.0   \n3                             0.12847                         7126.0   \n4                             0.11938                         9193.0   \n\n   Rural Population without Access (2018 Population, Varying RAI Year)  \\\n0                                        21602323.08                     \n1                                          784810.83                     \n2                                         4738920.63                     \n3                                                NaN                     \n4                                                NaN                     \n\n   Human Development Index (2019)  \n0                        0.495960  \n1                        0.791406  \n2                        0.758978  \n3                             NaN  \n4                        0.856781  "
     },
     "execution_count": 67,
     "metadata": {},
     "output_type": "execute_result"
    }
   ],
   "source": [
    "df_global.replace('not available', np.nan).head()"
   ]
  },
  {
   "cell_type": "code",
   "execution_count": 68,
   "metadata": {},
   "outputs": [],
   "source": [
    "df_global = df_global.replace('not available', np.nan)"
   ]
  },
  {
   "cell_type": "code",
   "execution_count": 40,
   "metadata": {},
   "outputs": [
    {
     "data": {
      "text/plain": "Country                                                                 object\nRural Access (Year Varies)\\nIndex                                       object\nRural % of Total Population (2018)                                     float64\nTotal Rural Population (2018)                                          float64\nRural Population without Access (2018 Population, Varying RAI Year)    float64\nHuman Development Index (2019)                                         float64\ndtype: object"
     },
     "execution_count": 40,
     "metadata": {},
     "output_type": "execute_result"
    }
   ],
   "source": [
    "df_global.dtypes"
   ]
  },
  {
   "cell_type": "code",
   "execution_count": 71,
   "metadata": {},
   "outputs": [],
   "source": [
    "def correct_perc(item):\n",
    "    # try: \n",
    "    #     float(item)\n",
    "    #     return item\n",
    "    #     print(item)\n",
    "    # except:\n",
    "    #     new_item = str(item)\n",
    "    #     if '%' in item:\n",
    "    #         new_item = float(item[:-1]) / 100\n",
    "    #         return float(new_item)\n",
    "    #     else:\n",
    "    #         pass\n",
    "\n",
    "    try:\n",
    "        item = str(item)\n",
    "        print(item)\n",
    "        if '%' in item:\n",
    "            new_item = float(item[:-1]) / 100\n",
    "            return float(new_item)\n",
    "        elif item == 'NaN':\n",
    "            pass\n",
    "        else:\n",
    "            return float(item)\n",
    "    except:\n",
    "        print('error')\n"
   ]
  },
  {
   "cell_type": "code",
   "execution_count": 73,
   "metadata": {},
   "outputs": [
    {
     "name": "stdout",
     "output_type": "stream",
     "text": "22%\n31%\n59%\nnan\nnan\n42%\nnan\n77%\n0.66\nnan\nnan\n95%\n67%\n82%\n99%\n0.867\n100%\n64%\n100%\n78%\n32%\nn.a.\nerror\n47%\n48%\n81%\n79%\n53%\n81%\n98%\n25%\n0.249\n81%\n20%\nnan\n82%\nn.a.\nerror\nnan\n5%\nnan\n76%\n97%\n78%\n73%\n26%\n48%\n82%\n56%\n84%\n81%\n89%\n97%\n99%\n81%\n88%\n62%\n73%\n77%\n64%\n53%\n29%\n86%\n0.216\nnan\n76%\n82%\n99%\nnan\n45%\n77%\n82%\n89%\n61%\n90%\nnan\n98%\nnan\n55%\n22%\n52%\n46%\n28%\n40%\nn.a.\nerror\n98%\n81%\n61%\n94%\n66%\n0.634\n93%\nnan\n88%\n98%\n93%\n99%\n0.714\n77%\n44%\nnan\n44%\n89%\n82%\n76%\n64%\n90%\n0.926\n0.18\n0.419\n78%\nnan\n97%\nnan\nn.a.\nerror\n78%\n0.114\n0.231\n82%\nnan\n0.223\n100%\nnan\n31%\n70%\nnan\n61%\n82%\n66%\nn.a.\nerror\n36%\n36%\n0.204\n23%\n57%\n0.867\n100%\nnan\nnan\n83%\n28%\n37%\n0.255\nnan\n83%\n81%\n61%\nnan\n77%\n68%\n54%\n0.372\n80%\n95%\n88%\n98%\n81%\n89%\n81%\n0.553\n71%\nnan\n83%\n75%\n29%\n74%\nnan\n0.315\nn.a.\nerror\nnan\n95%\n77%\n0.312\n21%\n95%\n92%\n89%\n89%\n97%\n5%\n79%\nnan\n86%\nnan\n49%\nnan\n74%\n0.246\n33%\n90%\n22%\n86%\n91%\n39%\n69%\n66%\n0.531\n56%\n76%\n96%\n86%\n84%\n57%\n77%\n78%\n84%\nnan\nnan\n21%\n0.17\n65%\n"
    }
   ],
   "source": [
    "df_global['Rural Access (Year Varies)\\nIndex'] = df_global['Rural Access (Year Varies)\\nIndex'].apply(correct_perc)"
   ]
  },
  {
   "cell_type": "code",
   "execution_count": 72,
   "metadata": {},
   "outputs": [
    {
     "name": "stdout",
     "output_type": "stream",
     "text": "22%\n31%\n59%\nnan\nnan\n42%\nnan\n77%\n0.66\nnan\nnan\n95%\n67%\n82%\n99%\n0.867\n100%\n64%\n100%\n78%\n32%\nn.a.\nerror\n47%\n48%\n81%\n79%\n53%\n81%\n98%\n25%\n0.249\n81%\n20%\nnan\n82%\nn.a.\nerror\nnan\n5%\nnan\n76%\n97%\n78%\n73%\n26%\n48%\n82%\n56%\n84%\n81%\n89%\n97%\n99%\n81%\n88%\n62%\n73%\n77%\n64%\n53%\n29%\n86%\n0.216\nnan\n76%\n82%\n99%\nnan\n45%\n77%\n82%\n89%\n61%\n90%\nnan\n98%\nnan\n55%\n22%\n52%\n46%\n28%\n40%\nn.a.\nerror\n98%\n81%\n61%\n94%\n66%\n0.634\n93%\nnan\n88%\n98%\n93%\n99%\n0.714\n77%\n44%\nnan\n44%\n89%\n82%\n76%\n64%\n90%\n0.926\n0.18\n0.419\n78%\nnan\n97%\nnan\nn.a.\nerror\n78%\n0.114\n0.231\n82%\nnan\n0.223\n100%\nnan\n31%\n70%\nnan\n61%\n82%\n66%\nn.a.\nerror\n36%\n36%\n0.204\n23%\n57%\n0.867\n100%\nnan\nnan\n83%\n28%\n37%\n0.255\nnan\n83%\n81%\n61%\nnan\n77%\n68%\n54%\n0.372\n80%\n95%\n88%\n98%\n81%\n89%\n81%\n0.553\n71%\nnan\n83%\n75%\n29%\n74%\nnan\n0.315\nn.a.\nerror\nnan\n95%\n77%\n0.312\n21%\n95%\n92%\n89%\n89%\n97%\n5%\n79%\nnan\n86%\nnan\n49%\nnan\n74%\n0.246\n33%\n90%\n22%\n86%\n91%\n39%\n69%\n66%\n0.531\n56%\n76%\n96%\n86%\n84%\n57%\n77%\n78%\n84%\nnan\nnan\n21%\n0.17\n65%\n"
    },
    {
     "data": {
      "text/plain": "0      0.22\n1      0.31\n2      0.59\n3       NaN\n4       NaN\n       ... \n204     NaN\n205     NaN\n206    0.21\n207    0.17\n208    0.65\nName: Rural Access (Year Varies)\\nIndex, Length: 209, dtype: float64"
     },
     "execution_count": 72,
     "metadata": {},
     "output_type": "execute_result"
    }
   ],
   "source": [
    "df_global['Rural Access (Year Varies)\\nIndex'].apply(correct_perc)"
   ]
  },
  {
   "cell_type": "code",
   "execution_count": 74,
   "metadata": {},
   "outputs": [
    {
     "data": {
      "text/plain": "array([0.22 , 0.31 , 0.59 ,   nan,   nan, 0.42 ,   nan, 0.77 , 0.66 ,\n         nan,   nan, 0.95 , 0.67 , 0.82 , 0.99 , 0.867, 1.   , 0.64 ,\n       1.   , 0.78 , 0.32 ,   nan, 0.47 , 0.48 , 0.81 , 0.79 , 0.53 ,\n       0.81 , 0.98 , 0.25 , 0.249, 0.81 , 0.2  ,   nan, 0.82 ,   nan,\n         nan, 0.05 ,   nan, 0.76 , 0.97 , 0.78 , 0.73 , 0.26 , 0.48 ,\n       0.82 , 0.56 , 0.84 , 0.81 , 0.89 , 0.97 , 0.99 , 0.81 , 0.88 ,\n       0.62 , 0.73 , 0.77 , 0.64 , 0.53 , 0.29 , 0.86 , 0.216,   nan,\n       0.76 , 0.82 , 0.99 ,   nan, 0.45 , 0.77 , 0.82 , 0.89 , 0.61 ,\n       0.9  ,   nan, 0.98 ,   nan, 0.55 , 0.22 , 0.52 , 0.46 , 0.28 ,\n       0.4  ,   nan, 0.98 , 0.81 , 0.61 , 0.94 , 0.66 , 0.634, 0.93 ,\n         nan, 0.88 , 0.98 , 0.93 , 0.99 , 0.714, 0.77 , 0.44 ,   nan,\n       0.44 , 0.89 , 0.82 , 0.76 , 0.64 , 0.9  , 0.926, 0.18 , 0.419,\n       0.78 ,   nan, 0.97 ,   nan,   nan, 0.78 , 0.114, 0.231, 0.82 ,\n         nan, 0.223, 1.   ,   nan, 0.31 , 0.7  ,   nan, 0.61 , 0.82 ,\n       0.66 ,   nan, 0.36 , 0.36 , 0.204, 0.23 , 0.57 , 0.867, 1.   ,\n         nan,   nan, 0.83 , 0.28 , 0.37 , 0.255,   nan, 0.83 , 0.81 ,\n       0.61 ,   nan, 0.77 , 0.68 , 0.54 , 0.372, 0.8  , 0.95 , 0.88 ,\n       0.98 , 0.81 , 0.89 , 0.81 , 0.553, 0.71 ,   nan, 0.83 , 0.75 ,\n       0.29 , 0.74 ,   nan, 0.315,   nan,   nan, 0.95 , 0.77 , 0.312,\n       0.21 , 0.95 , 0.92 , 0.89 , 0.89 , 0.97 , 0.05 , 0.79 ,   nan,\n       0.86 ,   nan, 0.49 ,   nan, 0.74 , 0.246, 0.33 , 0.9  , 0.22 ,\n       0.86 , 0.91 , 0.39 , 0.69 , 0.66 , 0.531, 0.56 , 0.76 , 0.96 ,\n       0.86 , 0.84 , 0.57 , 0.77 , 0.78 , 0.84 ,   nan,   nan, 0.21 ,\n       0.17 , 0.65 ])"
     },
     "execution_count": 74,
     "metadata": {},
     "output_type": "execute_result"
    }
   ],
   "source": [
    "df_global['Rural Access (Year Varies)\\nIndex'].values"
   ]
  },
  {
   "cell_type": "code",
   "execution_count": 76,
   "metadata": {},
   "outputs": [],
   "source": [
    "global_out_file = 'global_indicators.csv'\n",
    "bridges_out_file = 'bridges_dataset.csv'\n",
    "\n",
    "df_global.to_csv(global_out_file)\n",
    "df_bridges.to_csv(bridges_out_file)"
   ]
  }
 ]
}